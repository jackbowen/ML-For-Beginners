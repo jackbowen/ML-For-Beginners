{
 "cells": [
  {
   "cell_type": "markdown",
   "id": "b503d4eb",
   "metadata": {},
   "source": [
    "## Instructions\n",
    "Take a look at the [Linnerud dataset](https://scikit-learn.org/stable/modules/generated/sklearn.datasets.load_linnerud.html#sklearn.datasets.load_linnerud) in Scikit-learn. This dataset has multiple [targets](https://scikit-learn.org/stable/datasets/toy_dataset.html#linnerrud-dataset): 'It consists of three exercise (data) and three physiological (target) variables collected from twenty middle-aged men in a fitness club'.\n",
    "\n",
    "In your own words, describe how to create a Regression model that would plot the relationship between the waistline and how many situps are accomplished. Do the same for the other datapoints in this dataset.\n"
   ]
  },
  {
   "cell_type": "markdown",
   "id": "a2cedb83",
   "metadata": {},
   "source": [
    "The first thing I'll do is load all the libraries and import the data"
   ]
  },
  {
   "cell_type": "code",
   "execution_count": 2,
   "id": "59d96989",
   "metadata": {
    "scrolled": true
   },
   "outputs": [],
   "source": [
    "import matplotlib.pyplot as plt\n",
    "import numpy as np\n",
    "from sklearn import datasets, linear_model, model_selection\n",
    "\n",
    "X, y = datasets.load_linnerud(return_X_y=True)\n"
   ]
  },
  {
   "cell_type": "markdown",
   "id": "08c91974",
   "metadata": {},
   "source": [
    "Next I'll print out the data. For the data set, X, it should be:\n",
    "\\[num of chinups, num of situps, num of jumps\\]\n",
    "\n",
    "For the target set, y, is should be:\n",
    "\\[weight in lbs, waist in inches, and pulse in bpm\\]"
   ]
  },
  {
   "cell_type": "code",
   "execution_count": 3,
   "id": "6d29b2b2",
   "metadata": {},
   "outputs": [
    {
     "name": "stdout",
     "output_type": "stream",
     "text": [
      "data set shape: (20, 3)\n",
      "[chins, situps, jumps]\n",
      "[  5. 162.  60.]\n",
      "\n",
      "target set shape: (20, 3)\n",
      "[weight, waist, pulse]\n",
      "[191.  36.  50.]\n"
     ]
    }
   ],
   "source": [
    "print(f\"data set shape: {X.shape}\")\n",
    "print(\"[chins, situps, jumps]\")\n",
    "print(X[0])\n",
    "\n",
    "print(f\"\\ntarget set shape: {y.shape}\")\n",
    "print(\"[weight, waist, pulse]\")\n",
    "print(y[0])"
   ]
  },
  {
   "cell_type": "markdown",
   "id": "224df5f8",
   "metadata": {},
   "source": [
    "Now we'll separate out the waistline from the target and the situps from the data. The syntax shown below creates a 2d array where each row only has one column. The syntax X[:,1] would have created a 1d array with the same info but I'm guessing the built in algos wouldn't accept it thus why we did it this way. np.newaxis is just a synonym for None to help increase the dimension of the array by one. "
   ]
  },
  {
   "cell_type": "code",
   "execution_count": 4,
   "id": "1b55e3c9",
   "metadata": {},
   "outputs": [
    {
     "name": "stdout",
     "output_type": "stream",
     "text": [
      "(20, 1)\n",
      "[162.]\n",
      "(20, 1)\n",
      "[36.]\n"
     ]
    }
   ],
   "source": [
    "X_situps = X[:, np.newaxis, 1]\n",
    "print(X_situps.shape)\n",
    "print(X_situps[0])\n",
    "\n",
    "y_waist = y[:, None, 1]\n",
    "print(y_waist.shape)\n",
    "print(y_waist[0])"
   ]
  },
  {
   "cell_type": "markdown",
   "id": "55302c5d",
   "metadata": {},
   "source": [
    "Now we'll split up the stripped down data into a training and test set. We're reserving 30% of the data (6 rows) to be a test or validation set. The other 14 rows will be our training data. Using linear regression, we then fit (train) the model to our data."
   ]
  },
  {
   "cell_type": "code",
   "execution_count": 14,
   "id": "6233d391",
   "metadata": {},
   "outputs": [
    {
     "data": {
      "text/plain": [
       "LinearRegression()"
      ]
     },
     "execution_count": 14,
     "metadata": {},
     "output_type": "execute_result"
    }
   ],
   "source": [
    "X_train, X_test, y_train, y_test = model_selection.train_test_split(X_situps, y_waist, test_size=0.3)\n",
    "model = linear_model.LinearRegression()\n",
    "model.fit(X_train, y_train)"
   ]
  },
  {
   "cell_type": "code",
   "execution_count": 15,
   "id": "11b30d22",
   "metadata": {},
   "outputs": [],
   "source": [
    "y_pred = model.predict(X_test)"
   ]
  },
  {
   "cell_type": "code",
   "execution_count": 16,
   "id": "501174ea",
   "metadata": {
    "scrolled": true
   },
   "outputs": [
    {
     "data": {
      "image/png": "[encoded data removed]",
      "text/plain": [
       "<Figure size 432x288 with 1 Axes>"
      ]
     },
     "metadata": {
      "needs_background": "light"
     },
     "output_type": "display_data"
    }
   ],
   "source": [
    "plt.scatter(X_test, y_test,  color='black')\n",
    "plt.plot(X_test, y_pred, color='blue', linewidth=3)\n",
    "plt.xlabel('Number of situps')\n",
    "plt.ylabel('Waistsize in inches')\n",
    "plt.title('A Graph Plot Showing Waistline Shrinkage Against Number of Situps')\n",
    "plt.show()"
   ]
  },
  {
   "cell_type": "markdown",
   "id": "47be66e8",
   "metadata": {},
   "source": [
    "Just looking at the graph, there looks to be a decent amount of variance. Let's look at some metrics to get a better idea of it all."
   ]
  },
  {
   "cell_type": "code",
   "execution_count": 17,
   "id": "9939363f",
   "metadata": {},
   "outputs": [
    {
     "name": "stdout",
     "output_type": "stream",
     "text": [
      "MSE: 7.225545639667222\n",
      "RMSE: 2.688037507116897\n",
      "R2: -0.6156499566957763\n"
     ]
    }
   ],
   "source": [
    "from sklearn.metrics import mean_squared_error, r2_score\n",
    "\n",
    "mse = mean_squared_error(y_test, y_pred)\n",
    "print(\"MSE:\", mse)\n",
    "\n",
    "rmse = np.sqrt(mse)\n",
    "print(\"RMSE:\", rmse)\n",
    "\n",
    "r2 = r2_score(y_test, y_pred)\n",
    "print(\"R2:\", r2)"
   ]
  },
  {
   "cell_type": "markdown",
   "id": "fda33071",
   "metadata": {},
   "source": [
    "Our R2 value is less than 0, meaning our fit line is a worse predictor of waist size than simply drawing a line through the mean. At this point, we can pretty confidently say that the number of situps you can do is not a good predictor of your waistline.line"
   ]
  },
  {
   "cell_type": "markdown",
   "id": "b012498b",
   "metadata": {},
   "source": [
    "Let's try seeing if the number of jumps a person can do is at all indicative of their resting pulse."
   ]
  },
  {
   "cell_type": "code",
   "execution_count": 29,
   "id": "93325fbe",
   "metadata": {
    "scrolled": true
   },
   "outputs": [
    {
     "data": {
      "image/png": "[encoded data removed]",
      "text/plain": [
       "<Figure size 432x288 with 1 Axes>"
      ]
     },
     "metadata": {
      "needs_background": "light"
     },
     "output_type": "display_data"
    }
   ],
   "source": [
    "X_jumps = X[:, np.newaxis, 2]\n",
    "y_pulse = y[:, np.newaxis, 2]\n",
    "\n",
    "X_train, X_test, y_train, y_test = model_selection.train_test_split(X_jumps, y_pulse, test_size=0.3)\n",
    "\n",
    "model = linear_model.LinearRegression()\n",
    "model.fit(X_train, y_train)\n",
    "\n",
    "y_pred = model.predict(X_test)\n",
    "\n",
    "plt.scatter(X_test, y_test,  color='black')\n",
    "plt.plot(X_test, y_pred, color='blue', linewidth=3)\n",
    "plt.xlabel('Number of jumps')\n",
    "plt.ylabel('Resting pulse')\n",
    "#plt.title('A Graph Plot Showing Waistline Shrinkage Against Number of Situps')\n",
    "plt.show()"
   ]
  },
  {
   "cell_type": "markdown",
   "id": "be35b5cf",
   "metadata": {},
   "source": [
    "Again there looks to be a large amount of variance. Let's look at some metrics:"
   ]
  },
  {
   "cell_type": "code",
   "execution_count": 30,
   "id": "dfb45855",
   "metadata": {},
   "outputs": [
    {
     "name": "stdout",
     "output_type": "stream",
     "text": [
      "MSE: 118.43016986896697\n",
      "RMSE: 10.882562651736354\n",
      "R2: -0.22092958627801007\n"
     ]
    }
   ],
   "source": [
    "mse = mean_squared_error(y_test, y_pred)\n",
    "print(\"MSE:\", mse)\n",
    "\n",
    "rmse = np.sqrt(mse)\n",
    "print(\"RMSE:\", rmse)\n",
    "\n",
    "r2 = r2_score(y_test, y_pred)\n",
    "print(\"R2:\", r2)"
   ]
  },
  {
   "cell_type": "code",
   "execution_count": 35,
   "id": "8bf17045",
   "metadata": {},
   "outputs": [
    {
     "name": "stdout",
     "output_type": "stream",
     "text": [
      "R2: 0.014321841636930843\n"
     ]
    }
   ],
   "source": [
    "X_train, X_test, y_train, y_test = model_selection.train_test_split(X, y_pulse, test_size=0.3)\n",
    "\n",
    "model = linear_model.LinearRegression()\n",
    "model.fit(X_train, y_train)\n",
    "\n",
    "y_pred = model.predict(X_test)\n",
    "\n",
    "r2 = r2_score(y_test, y_pred)\n",
    "print(\"R2:\", r2)"
   ]
  },
  {
   "cell_type": "code",
   "execution_count": null,
   "id": "dbfc0783",
   "metadata": {},
   "outputs": [],
   "source": []
  }
 ],
 "metadata": {
  "kernelspec": {
   "display_name": "Python 3 (ipykernel)",
   "language": "python",
   "name": "python3"
  },
  "language_info": {
   "codemirror_mode": {
    "name": "ipython",
    "version": 3
   },
   "file_extension": ".py",
   "mimetype": "text/x-python",
   "name": "python",
   "nbconvert_exporter": "python",
   "pygments_lexer": "ipython3",
   "version": "3.9.5"
  }
 },
 "nbformat": 4,
 "nbformat_minor": 5
}
